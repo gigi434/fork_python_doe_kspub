{
 "cells": [
  {
   "cell_type": "code",
   "execution_count": 1,
   "id": "aa37415a-5826-442c-9b25-1f16beec19cc",
   "metadata": {},
   "outputs": [
    {
     "name": "stdout",
     "output_type": "stream",
     "text": [
      "標準化後の平均値\n",
      "property         -5.551115e-17\n",
      "raw material 1   -6.106227e-17\n",
      "raw material 2    7.771561e-17\n",
      "raw material 3   -1.276756e-16\n",
      "temperature       2.220446e-17\n",
      "time             -2.220446e-17\n",
      "dtype: float64\n",
      "\n",
      "標準化後の標準偏差\n",
      "property          1.0\n",
      "raw material 1    1.0\n",
      "raw material 2    1.0\n",
      "raw material 3    1.0\n",
      "temperature       1.0\n",
      "time              1.0\n",
      "dtype: float64\n"
     ]
    }
   ],
   "source": [
    "# -*- coding: utf-8 -*-\n",
    "\"\"\"\n",
    "@author: Hiromasa Kaneko\n",
    "\"\"\"\n",
    "\n",
    "import pandas as pd\n",
    "\n",
    "dataset = pd.read_csv('resin.csv', index_col=0, header=0)\n",
    "\n",
    "deleting_variables = dataset.columns[dataset.std() == 0]  # 標準偏差が 0 の特徴量\n",
    "dataset = dataset.drop(deleting_variables, axis=1)  # 標準偏差が 0 の特徴量の削除\n",
    "\n",
    "autoscaled_dataset = (dataset - dataset.mean()) / dataset.std()  # 特徴量の標準化\n",
    "autoscaled_dataset.to_csv('autoscaled_dataset.csv')\n",
    "\n",
    "print('標準化後の平均値')\n",
    "print(autoscaled_dataset.mean())\n",
    "print('\\n標準化後の標準偏差')\n",
    "print(autoscaled_dataset.std())\n"
   ]
  },
  {
   "cell_type": "code",
   "execution_count": null,
   "id": "3ecc5b84-805b-41e2-852a-bd90be13ac51",
   "metadata": {},
   "outputs": [],
   "source": []
  }
 ],
 "metadata": {
  "kernelspec": {
   "display_name": "Python 3 (ipykernel)",
   "language": "python",
   "name": "python3"
  },
  "language_info": {
   "codemirror_mode": {
    "name": "ipython",
    "version": 3
   },
   "file_extension": ".py",
   "mimetype": "text/x-python",
   "name": "python",
   "nbconvert_exporter": "python",
   "pygments_lexer": "ipython3",
   "version": "3.11.7"
  }
 },
 "nbformat": 4,
 "nbformat_minor": 5
}
