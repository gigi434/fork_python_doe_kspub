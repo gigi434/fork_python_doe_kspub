{
 "cells": [
  {
   "cell_type": "code",
   "execution_count": 4,
   "id": "db443591-4616-445b-a152-e386e7803cca",
   "metadata": {},
   "outputs": [
    {
     "name": "stdout",
     "output_type": "stream",
     "text": [
      "                property  raw material 1  raw material 2  raw material 3  \\\n",
      "property        0.079544       -0.080622       -0.007684        0.088307   \n",
      "raw material 1 -0.080622        0.102395       -0.004000       -0.098395   \n",
      "raw material 2 -0.007684       -0.004000        0.013263       -0.009263   \n",
      "raw material 3  0.088307       -0.098395       -0.009263        0.107658   \n",
      "temperature     0.242303       -0.496053        0.057895        0.438158   \n",
      "time           -2.279868        2.518421       -0.747368       -1.771053   \n",
      "\n",
      "                temperature         time  \n",
      "property           0.242303    -2.279868  \n",
      "raw material 1    -0.496053     2.518421  \n",
      "raw material 2     0.057895    -0.747368  \n",
      "raw material 3     0.438158    -1.771053  \n",
      "temperature      264.407895   284.342105  \n",
      "time             284.342105  1226.052632  \n",
      "                property  raw material 1  raw material 2  raw material 3  \\\n",
      "property        1.000000       -0.893331       -0.236576        0.954257   \n",
      "raw material 1 -0.893331        1.000000       -0.108542       -0.937152   \n",
      "raw material 2 -0.236576       -0.108542        1.000000       -0.245139   \n",
      "raw material 3  0.954257       -0.937152       -0.245139        1.000000   \n",
      "temperature     0.052834       -0.095335        0.030916        0.082124   \n",
      "time           -0.230861        0.224768       -0.185335       -0.154154   \n",
      "\n",
      "                temperature      time  \n",
      "property           0.052834 -0.230861  \n",
      "raw material 1    -0.095335  0.224768  \n",
      "raw material 2     0.030916 -0.185335  \n",
      "raw material 3     0.082124 -0.154154  \n",
      "temperature        1.000000  0.499401  \n",
      "time               0.499401  1.000000  \n"
     ]
    }
   ],
   "source": [
    "# -*- coding: utf-8 -*-\n",
    "\"\"\"\n",
    "@author: Hiromasa Kaneko\n",
    "\"\"\"\n",
    "\n",
    "import pandas as pd\n",
    "\n",
    "dataset = pd.read_csv('resin.csv', index_col=0, header=0)\n",
    "\n",
    "covariance = dataset.cov()  # 共分散の計算\n",
    "covariance.to_csv('covariance.csv')\n",
    "print(covariance)\n",
    "\n",
    "correlation_coefficient = dataset.corr()  # 相関係数の計算\n",
    "correlation_coefficient.to_csv('correlation_coefficient.csv')\n",
    "print(correlation_coefficient)"
   ]
  },
  {
   "cell_type": "code",
   "execution_count": null,
   "id": "899fe324-c67f-4ba1-982f-527c60b10157",
   "metadata": {},
   "outputs": [],
   "source": []
  },
  {
   "cell_type": "code",
   "execution_count": null,
   "id": "758dee90-21fc-4f58-8a3d-60369e6c0abf",
   "metadata": {},
   "outputs": [],
   "source": []
  }
 ],
 "metadata": {
  "kernelspec": {
   "display_name": "Python 3 (ipykernel)",
   "language": "python",
   "name": "python3"
  },
  "language_info": {
   "codemirror_mode": {
    "name": "ipython",
    "version": 3
   },
   "file_extension": ".py",
   "mimetype": "text/x-python",
   "name": "python",
   "nbconvert_exporter": "python",
   "pygments_lexer": "ipython3",
   "version": "3.11.7"
  }
 },
 "nbformat": 4,
 "nbformat_minor": 5
}
