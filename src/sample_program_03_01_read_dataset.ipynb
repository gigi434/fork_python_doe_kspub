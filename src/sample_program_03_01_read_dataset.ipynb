{
 "cells": [
  {
   "cell_type": "code",
   "execution_count": 1,
   "id": "81093698-4879-4191-881e-5c30584bd13b",
   "metadata": {},
   "outputs": [
    {
     "data": {
      "text/plain": [
       "'\\n@author: Hiromasa Kaneko\\n'"
      ]
     },
     "execution_count": 1,
     "metadata": {},
     "output_type": "execute_result"
    }
   ],
   "source": [
    "# -*- coding: utf-8 -*-\n",
    "\"\"\"\n",
    "@author: Hiromasa Kaneko\n",
    "\"\"\""
   ]
  },
  {
   "cell_type": "code",
   "execution_count": 2,
   "id": "255ec1c1-ddb5-42a4-adb3-966c46467e71",
   "metadata": {},
   "outputs": [
    {
     "name": "stdout",
     "output_type": "stream",
     "text": [
      "           property  raw material 1  raw material 2  raw material 3  \\\n",
      "sample_1      0.125             0.5             0.1             0.4   \n",
      "sample_2      0.122             0.7             0.0             0.3   \n",
      "sample_3      0.624             0.0             0.2             0.8   \n",
      "sample_4      0.042             0.9             0.1             0.0   \n",
      "sample_5      0.589             0.2             0.0             0.8   \n",
      "sample_6      0.051             0.7             0.1             0.2   \n",
      "sample_7      0.771             0.1             0.0             0.9   \n",
      "sample_8      0.775             0.1             0.0             0.9   \n",
      "sample_9      0.219             0.4             0.1             0.5   \n",
      "sample_10     0.120             0.5             0.2             0.3   \n",
      "sample_11     0.066             0.8             0.1             0.1   \n",
      "sample_12     0.037             0.8             0.1             0.1   \n",
      "sample_13     0.100             0.5             0.2             0.3   \n",
      "sample_14     0.161             0.5             0.4             0.1   \n",
      "sample_15     0.773             0.0             0.1             0.9   \n",
      "sample_16     0.087             0.5             0.3             0.2   \n",
      "sample_17     0.511             0.0             0.3             0.7   \n",
      "sample_18     0.079             1.0             0.0             0.0   \n",
      "sample_19     0.043             0.8             0.1             0.1   \n",
      "sample_20     0.490             0.3             0.0             0.7   \n",
      "\n",
      "           temperature  time  \n",
      "sample_1            85    80  \n",
      "sample_2            55    50  \n",
      "sample_3            70    40  \n",
      "sample_4            60    90  \n",
      "sample_5            75   120  \n",
      "sample_6            90    60  \n",
      "sample_7            80    10  \n",
      "sample_8            90    90  \n",
      "sample_9           100   110  \n",
      "sample_10           60    40  \n",
      "sample_11           50    10  \n",
      "sample_12           65    40  \n",
      "sample_13           60    80  \n",
      "sample_14           90    40  \n",
      "sample_15           50    10  \n",
      "sample_16           55    50  \n",
      "sample_17           80    20  \n",
      "sample_18           70    60  \n",
      "sample_19          100   100  \n",
      "sample_20           60    10  \n"
     ]
    }
   ],
   "source": [
    "import pandas as pd  # pandas の取り込み。一般的に pd と名前を省略して取り込みます\n",
    "\n",
    "dataset = pd.read_csv('resin.csv', index_col=0, header=0)  # データセットの読み込み\n",
    "#dataset = pd.read_csv('resin.csv', encoding='SHIFT-JIS', index_col=0, header=0)  # データセットの読み込み。日本語があるとき\n",
    "\n",
    "print(dataset)  # 読み込んだデータセットを表示して確認"
   ]
  },
  {
   "cell_type": "code",
   "execution_count": null,
   "id": "aa3466ba-258f-4e3c-9d8a-7a8ac86fae66",
   "metadata": {},
   "outputs": [],
   "source": []
  }
 ],
 "metadata": {
  "kernelspec": {
   "display_name": "Python 3 (ipykernel)",
   "language": "python",
   "name": "python3"
  },
  "language_info": {
   "codemirror_mode": {
    "name": "ipython",
    "version": 3
   },
   "file_extension": ".py",
   "mimetype": "text/x-python",
   "name": "python",
   "nbconvert_exporter": "python",
   "pygments_lexer": "ipython3",
   "version": "3.11.7"
  }
 },
 "nbformat": 4,
 "nbformat_minor": 5
}
