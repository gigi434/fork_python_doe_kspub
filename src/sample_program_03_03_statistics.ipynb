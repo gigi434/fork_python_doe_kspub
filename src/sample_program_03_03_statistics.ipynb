{
 "cells": [
  {
   "cell_type": "code",
   "execution_count": 1,
   "id": "6e049c62-722b-4dcc-bda9-be1d2b3c7678",
   "metadata": {},
   "outputs": [
    {
     "name": "stdout",
     "output_type": "stream",
     "text": [
      "                    property  raw material 1  raw material 2  raw material 3  \\\n",
      "mean                0.289250        0.465000        0.120000        0.415000   \n",
      "median              0.123500        0.500000        0.100000        0.300000   \n",
      "variance            0.079544        0.102395        0.013263        0.107658   \n",
      "standard deviation  0.282036        0.319992        0.115166        0.328113   \n",
      "max                 0.775000        1.000000        0.400000        0.900000   \n",
      "min                 0.037000        0.000000        0.000000        0.000000   \n",
      "sum                 5.785000        9.300000        2.400000        8.300000   \n",
      "\n",
      "                    temperature         time  \n",
      "mean                  72.250000    55.500000  \n",
      "median                70.000000    50.000000  \n",
      "variance             264.407895  1226.052632  \n",
      "standard deviation    16.260624    35.015034  \n",
      "max                  100.000000   120.000000  \n",
      "min                   50.000000    10.000000  \n",
      "sum                 1445.000000  1110.000000  \n"
     ]
    }
   ],
   "source": [
    "# -*- coding: utf-8 -*-\n",
    "\"\"\"\n",
    "@author: Hiromasa Kaneko\n",
    "\"\"\"\n",
    "\n",
    "import pandas as pd\n",
    "\n",
    "dataset = pd.read_csv('resin.csv', index_col=0)\n",
    "\n",
    "statistics = pd.concat(\n",
    "    [dataset.mean(), dataset.median(), dataset.var(), dataset.std(),\n",
    "     dataset.max(), dataset.min(), dataset.sum()], axis=1).T  # 統計量を計算して結合\n",
    "statistics.index = ['mean', 'median', 'variance', 'standard deviation', 'max', 'min', 'sum']\n",
    "statistics.to_csv('statistics.csv')  # csv ファイルとして保存\n",
    "print(statistics)"
   ]
  },
  {
   "cell_type": "code",
   "execution_count": null,
   "id": "b3da45db-3f7a-49df-9023-a9ec43245d57",
   "metadata": {},
   "outputs": [],
   "source": []
  }
 ],
 "metadata": {
  "kernelspec": {
   "display_name": "Python 3 (ipykernel)",
   "language": "python",
   "name": "python3"
  },
  "language_info": {
   "codemirror_mode": {
    "name": "ipython",
    "version": 3
   },
   "file_extension": ".py",
   "mimetype": "text/x-python",
   "name": "python",
   "nbconvert_exporter": "python",
   "pygments_lexer": "ipython3",
   "version": "3.11.7"
  }
 },
 "nbformat": 4,
 "nbformat_minor": 5
}
